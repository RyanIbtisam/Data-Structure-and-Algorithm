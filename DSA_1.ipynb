{
  "cells": [
    {
      "cell_type": "code",
      "execution_count": null,
      "metadata": {
        "colab": {
          "base_uri": "https://localhost:8080/"
        },
        "id": "iSYXERnJcWyz",
        "outputId": "e235dd2c-de8c-4bf5-db2e-50f1e6e13aa7"
      },
      "outputs": [
        {
          "name": "stdout",
          "output_type": "stream",
          "text": [
            "7\n"
          ]
        }
      ],
      "source": [
        "my_array=[7,8,9,11,12]\n",
        "print(my_array[0])"
      ]
    },
    {
      "cell_type": "code",
      "execution_count": null,
      "metadata": {
        "colab": {
          "base_uri": "https://localhost:8080/"
        },
        "id": "OUZzLw4Vck0u",
        "outputId": "65f5dc19-3d6a-47a4-a02e-0c957ea69d57"
      },
      "outputs": [
        {
          "name": "stdout",
          "output_type": "stream",
          "text": [
            "lowest value: 7\n"
          ]
        }
      ],
      "source": [
        "my_array=[7,8,9,10,11]\n",
        "minVal=my_array[0]\n",
        "for i in my_array:\n",
        "  if i<minVal:\n",
        "    minVal:i\n",
        "print('lowest value:',minVal)"
      ]
    },
    {
      "cell_type": "markdown",
      "source": [
        "**Bubble Sort**"
      ],
      "metadata": {
        "id": "zXCy1KJEEF4i"
      }
    },
    {
      "cell_type": "code",
      "execution_count": null,
      "metadata": {
        "colab": {
          "base_uri": "https://localhost:8080/"
        },
        "id": "-Ab_vncbd6r8",
        "outputId": "b53ff9bc-05e0-4037-d08c-41c576001670"
      },
      "outputs": [
        {
          "name": "stdout",
          "output_type": "stream",
          "text": [
            "Sorted array [7, 8, 20, 21, 32, 64, 90]\n"
          ]
        }
      ],
      "source": [
        "my_array=[64,32,20,21,8,7,90]\n",
        "n=len(my_array)\n",
        "for i in range(n-1):\n",
        "  for j in range(n-i-1):\n",
        "    if my_array[j]>my_array[j+1]:\n",
        "       my_array[j],my_array[j+1]=my_array[j+1],my_array[j]\n",
        "print(\"Sorted array\",my_array)"
      ]
    },
    {
      "cell_type": "code",
      "execution_count": null,
      "metadata": {
        "id": "CO1TVGJ1ggN_"
      },
      "outputs": [],
      "source": [
        "my_array=[65,40,32,55,6,12]\n",
        "n=len(my_array)\n",
        "for i in range (n-1):\n",
        "  swapped=False\n",
        "  for j in range (n-i-1):\n",
        "    if my_array[j]>my_array[j+1]:\n",
        "      my_array[j],my_array[j+1]=my_array[j+1],my_array[j]\n",
        "      swapped=True\n",
        "      if not swapped:\n",
        "       break\n",
        "       print(\"Sorted array:\",my_array)\n"
      ]
    },
    {
      "cell_type": "markdown",
      "metadata": {
        "id": "_VHfFdLiYFNX"
      },
      "source": [
        "**Selection Sort**"
      ]
    },
    {
      "cell_type": "code",
      "execution_count": null,
      "metadata": {
        "colab": {
          "base_uri": "https://localhost:8080/"
        },
        "id": "YyawcHXti5f9",
        "outputId": "7cfc88dc-aa4c-433f-d204-7fa0ee7d8485"
      },
      "outputs": [
        {
          "name": "stdout",
          "output_type": "stream",
          "text": [
            "Sorted array: [40, 64, 2, 12, 24]\n",
            "Sorted array: [2, 40, 64, 12, 24]\n",
            "Sorted array: [12, 2, 40, 64, 24]\n",
            "Sorted array: [24, 12, 2, 40, 64]\n",
            "Sorted array: [24, 2, 12, 40, 64]\n"
          ]
        }
      ],
      "source": [
        "my_array=[64,40,2,12,24]\n",
        "n=len(my_array)\n",
        "for i in range(n-1):\n",
        "  min_index=i\n",
        "  for j in range(i+1,n):\n",
        "    if my_array[j]<my_array[min_index]:\n",
        "      min_index=j\n",
        "      min_value=my_array.pop(min_index)\n",
        "      my_array.insert(i,min_value)\n",
        "      print(\"Sorted array:\",my_array)\n"
      ]
    },
    {
      "cell_type": "markdown",
      "metadata": {
        "id": "qFZKq5WJfysj"
      },
      "source": [
        "**Insertion Sort**"
      ]
    },
    {
      "cell_type": "code",
      "execution_count": null,
      "metadata": {
        "colab": {
          "base_uri": "https://localhost:8080/"
        },
        "id": "0Nd-qcBOW-pd",
        "outputId": "32c9a34d-c566-45d3-9ca7-e5b10e80c611"
      },
      "outputs": [
        {
          "name": "stdout",
          "output_type": "stream",
          "text": [
            "Sorted array: [34, 64, 30, 3, 45, 11, 12]\n",
            "Sorted array: [34, 30, 64, 3, 45, 11, 12]\n",
            "Sorted array: [30, 34, 30, 64, 3, 45, 11, 12]\n",
            "Sorted array: [30, 34, 12, 30, 3, 11]\n",
            "Sorted array: [30, 12, 34, 12, 30, 3, 11]\n",
            "Sorted array: [12, 30, 12, 34, 12, 30, 3, 11]\n",
            "Sorted array: [12, 30, 12, 34, 12, 3, 30, 11]\n",
            "Sorted array: [12, 30, 12, 34, 3, 12, 3, 30, 11]\n",
            "Sorted array: [12, 30, 12, 3, 34, 3, 12, 3, 30, 11]\n",
            "Sorted array: [12, 30, 3, 12, 3, 34, 3, 12, 3, 30, 11]\n",
            "Sorted array: [12, 3, 30, 3, 12, 3, 34, 3, 12, 3, 30, 11]\n",
            "Sorted array: [3, 12, 3, 30, 3, 12, 3, 34, 3, 12, 3, 30, 11]\n"
          ]
        }
      ],
      "source": [
        "my_array=[64,34,30,3,45,11,12]\n",
        "n=len(my_array)\n",
        "for i in range(1,n):\n",
        "  insert_index=i\n",
        "  current_value=my_array.pop(i)\n",
        "  for j in range(i-1,-1,-1):\n",
        "    if my_array[j]>current_value:\n",
        "      insert_index=j\n",
        "      my_array.insert(insert_index,current_value)\n",
        "      print(\"Sorted array:\",my_array)"
      ]
    },
    {
      "cell_type": "code",
      "execution_count": null,
      "metadata": {
        "colab": {
          "base_uri": "https://localhost:8080/"
        },
        "id": "_XA4tOy7frfI",
        "outputId": "35cdd620-d73b-42bd-ff0b-f7f248845b28"
      },
      "outputs": [
        {
          "output_type": "stream",
          "name": "stdout",
          "text": [
            "Sorted array: [5, 11, 12, 22, 25, 34, 64, 90]\n"
          ]
        }
      ],
      "source": [
        "my_array = [64, 34, 25, 12, 22, 11, 90, 5]\n",
        "\n",
        "n = len(my_array)\n",
        "for i in range(1,n):\n",
        "    insert_index = i\n",
        "    current_value = my_array[i]\n",
        "    for j in range(i-1, -1, -1):\n",
        "        if my_array[j] > current_value:\n",
        "            my_array[j+1] = my_array[j]\n",
        "            insert_index = j\n",
        "        else:\n",
        "            break\n",
        "    my_array[insert_index] = current_value\n",
        "\n",
        "print(\"Sorted array:\", my_array)\n",
        "\n",
        "\n",
        "\n",
        "\n",
        "\n"
      ]
    },
    {
      "cell_type": "markdown",
      "metadata": {
        "id": "vUBEvyAZ__Ny"
      },
      "source": [
        "**Quick Sort**"
      ]
    },
    {
      "cell_type": "code",
      "execution_count": null,
      "metadata": {
        "colab": {
          "base_uri": "https://localhost:8080/"
        },
        "id": "4Q6jYshYWbmZ",
        "outputId": "6a7a4606-569c-4954-fabf-4e97b8134973"
      },
      "outputs": [
        {
          "name": "stdout",
          "output_type": "stream",
          "text": [
            "Sorted array: [70, 45, 32, 56, 11, 9]\n"
          ]
        }
      ],
      "source": [
        "def partition(array,low,high):\n",
        "  pivot=array[high]\n",
        "  i=low-1\n",
        "  for j in range(low,high):\n",
        "    if array[j]<=pivot:\n",
        "      i+=1\n",
        "      array[i],array[j]=array[j],array[i]\n",
        "  return(i+1)\n",
        "\n",
        "def quicksort(array,low,high):\n",
        "  if high is None:\n",
        "    high=len(array)-1\n",
        "  if low<high:\n",
        "    pivot_index=partition(array,low,high)\n",
        "    quicksort(array,low,pivot_index-1)\n",
        "    quicksort(array,pivot_index+1,high)\n",
        "\n",
        "my_array=[70,45,32,56,11,9]\n",
        "quicksort(my_array,0,len(my_array)-1)\n",
        "print(\"Sorted array:\",my_array)"
      ]
    },
    {
      "cell_type": "markdown",
      "metadata": {
        "id": "pxCmIReKZkLQ"
      },
      "source": [
        "**Counting Sort**"
      ]
    },
    {
      "cell_type": "code",
      "execution_count": null,
      "metadata": {
        "colab": {
          "base_uri": "https://localhost:8080/"
        },
        "id": "a-oEtekp_7jD",
        "outputId": "2a22417a-fe86-42e2-dd29-fd3905a6bb5d"
      },
      "outputs": [
        {
          "name": "stdout",
          "output_type": "stream",
          "text": [
            "Sorted array: [2, 3, 2, 2, 3, 6, 5, 3, 4]\n"
          ]
        }
      ],
      "source": [
        "def countingSort(arr):\n",
        "  max_val=max(arr)\n",
        "  count=[0]*(max_val+1)\n",
        "  while len(arr)>0:\n",
        "    num=arr.pop(0)\n",
        "    count[num]+=1\n",
        "    for i in range (len(count)):\n",
        "      while count[i]>0:\n",
        "        arr.append(i)\n",
        "        count[i]-=1\n",
        "        return arr\n",
        "unsortedArr=[4,2,3,2,2,3,6,5,3]\n",
        "sortedArr=countingSort(unsortedArr)\n",
        "print(\"Sorted array:\",sortedArr)\n",
        "\n",
        "\n",
        "\n"
      ]
    },
    {
      "cell_type": "markdown",
      "metadata": {
        "id": "RN1WJSLxMN1L"
      },
      "source": [
        "**Radix Sort**"
      ]
    },
    {
      "cell_type": "markdown",
      "metadata": {
        "id": "7Jbo0VG-Soga"
      },
      "source": [
        "**Radix Sort With Bubble Sort**"
      ]
    },
    {
      "cell_type": "code",
      "execution_count": null,
      "metadata": {
        "id": "AzRp41I1Wfqv"
      },
      "outputs": [],
      "source": []
    }
  ],
  "metadata": {
    "colab": {
      "provenance": []
    },
    "kernelspec": {
      "display_name": "Python 3",
      "name": "python3"
    },
    "language_info": {
      "name": "python"
    }
  },
  "nbformat": 4,
  "nbformat_minor": 0
}